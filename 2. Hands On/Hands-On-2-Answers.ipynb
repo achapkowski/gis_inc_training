{
 "cells": [
  {
   "cell_type": "markdown",
   "metadata": {},
   "source": [
    "# Hands On 2\n",
    "\n",
    "In this lab you will publish, modify and manipulate content on Enterprise or ArcGIS Online."
   ]
  },
  {
   "cell_type": "code",
   "execution_count": 1,
   "metadata": {},
   "outputs": [],
   "source": [
    "# DO NOT MODIFY (RUN FIRST)\n",
    "from arcgis.gis import GIS\n",
    "from arcgis import geometry\n",
    "from arcgis import features"
   ]
  },
  {
   "cell_type": "markdown",
   "metadata": {},
   "source": [
    "### 1. Connect to the Enterprise"
   ]
  },
  {
   "cell_type": "code",
   "execution_count": 3,
   "metadata": {},
   "outputs": [],
   "source": [
    "# ENTER CODE HERE!\n",
    "gis = GIS(profile=\"agol_profile\")#None"
   ]
  },
  {
   "cell_type": "markdown",
   "metadata": {},
   "source": [
    "### 2. Publish the zipped feature class in the data folder.  It is called PackAccess.zip.  The item type should be `File Geodatabase`. Assign the published item to the variable `item`. "
   ]
  },
  {
   "cell_type": "code",
   "execution_count": 4,
   "metadata": {},
   "outputs": [],
   "source": [
    "# ENTER CODE HERE!\n",
    "fp = \"./data/ParkAccess.zip\"\n",
    "item = gis.content.add(data=fp, item_properties={'title' : \"parks\", \n",
    "                                                 'tags' : 'park, public land', \n",
    "                                                 'type' : 'File Geodatabase'})\n",
    "pitem = item.publish()"
   ]
  },
  {
   "cell_type": "markdown",
   "metadata": {},
   "source": [
    "### 3. Run the code below to display the the item was published."
   ]
  },
  {
   "cell_type": "code",
   "execution_count": 6,
   "metadata": {},
   "outputs": [
    {
     "data": {
      "text/html": [
       "<div class=\"item_container\" style=\"height: auto; overflow: hidden; border: 1px solid #cfcfcf; border-radius: 2px; background: #f6fafa; line-height: 1.21429em; padding: 10px;\">\n",
       "                    <div class=\"item_left\" style=\"width: 210px; float: left;\">\n",
       "                       <a href='https://arcgissolutions.maps.arcgis.com/home/item.html?id=4ff2ec3f2e6642dd9c1fad45d4f6d025' target='_blank'>\n",
       "                        <img src='http://static.arcgis.com/images/desktopapp.png' class=\"itemThumbnail\">\n",
       "                       </a>\n",
       "                    </div>\n",
       "\n",
       "                    <div class=\"item_right\"     style=\"float: none; width: auto; overflow: hidden;\">\n",
       "                        <a href='https://arcgissolutions.maps.arcgis.com/home/item.html?id=4ff2ec3f2e6642dd9c1fad45d4f6d025' target='_blank'><b>parks</b>\n",
       "                        </a>\n",
       "                        <br/><img src='https://arcgissolutions.maps.arcgis.com/home/js/jsapi/esri/css/images/item_type_icons/featureshosted16.png' style=\"vertical-align:middle;\">Feature Layer Collection by AndrewSolutions\n",
       "                        <br/>Last Modified: April 23, 2019\n",
       "                        <br/>0 comments, 0 views\n",
       "                    </div>\n",
       "                </div>\n",
       "                "
      ],
      "text/plain": [
       "<Item title:\"parks\" type:Feature Layer Collection owner:AndrewSolutions>"
      ]
     },
     "execution_count": 6,
     "metadata": {},
     "output_type": "execute_result"
    }
   ],
   "source": [
    "# DO NOT MODIFY\n",
    "pitem"
   ]
  },
  {
   "cell_type": "markdown",
   "metadata": {},
   "source": [
    "### 4. Modify the hosted feature layer collection so a someone can modify the Feature Layer.\n",
    "\n",
    "(**Hint**: use FeatureLayerCollection's manager to update the definition)"
   ]
  },
  {
   "cell_type": "code",
   "execution_count": 13,
   "metadata": {},
   "outputs": [
    {
     "data": {
      "text/plain": [
       "{'success': True}"
      ]
     },
     "execution_count": 13,
     "metadata": {},
     "output_type": "execute_result"
    }
   ],
   "source": [
    "from arcgis.features import FeatureLayerCollection\n",
    "flc = FeatureLayerCollection.fromitem(pitem)\n",
    "mgr = flc.manager\n",
    "mgr.update_definition({'hasStaticData': False,\n",
    " 'capabilities': 'Query,Editing,Create,Update,Delete,Sync',\n",
    " 'editorTrackingInfo': {'enableEditorTracking': False,\n",
    "  'enableOwnershipAccessControl': False,\n",
    "  'allowOthersToUpdate': True,\n",
    "  'allowOthersToDelete': True,\n",
    "  'allowOthersToQuery': True,\n",
    "  'allowAnonymousToUpdate': True,\n",
    "  'allowAnonymousToDelete': True}})"
   ]
  },
  {
   "cell_type": "markdown",
   "metadata": {},
   "source": [
    "### 5. Create a `map` and have it display over Baltimore, MD.\n",
    "\n",
    "- a. Assign the map to variable called `baltimore_map`.\n",
    "- b. Use the extent below to assign set the Balitmore extent.\n",
    "- c. Add the layer to the map"
   ]
  },
  {
   "cell_type": "code",
   "execution_count": 7,
   "metadata": {},
   "outputs": [],
   "source": [
    "extent = [[-76.711298, 39.197233], [-76.529676,39.371971]]"
   ]
  },
  {
   "cell_type": "code",
   "execution_count": 15,
   "metadata": {},
   "outputs": [],
   "source": [
    "baltimore_map = gis.map() # Modify this variable\n",
    "baltimore_map.extent = extent\n",
    "baltimore_map.add_layer(pitem)"
   ]
  },
  {
   "cell_type": "code",
   "execution_count": 16,
   "metadata": {},
   "outputs": [
    {
     "data": {
      "application/vnd.jupyter.widget-view+json": {
       "model_id": "c45eeacaf0ed4683815fb24d9c5e04b6",
       "version_major": 2,
       "version_minor": 0
      },
      "text/plain": [
       "MapView(layout=Layout(height='400px', width='100%'))"
      ]
     },
     "metadata": {},
     "output_type": "display_data"
    },
    {
     "data": {
      "text/html": [
       "<div class=\"map-static-img-preview-e40c3e27-05e1-45bb-b87e-436d6eb9837b\"><img src=\"\"></img></div>"
      ],
      "text/plain": [
       "<IPython.core.display.HTML object>"
      ]
     },
     "metadata": {},
     "output_type": "display_data"
    }
   ],
   "source": [
    "baltimore_map"
   ]
  },
  {
   "cell_type": "markdown",
   "metadata": {},
   "source": [
    "### 6. Create a method to draw a point on the map. \n",
    "\n",
    "- The method will hook into the `baltimore_map.on_click` event\n",
    "- The method should take two variables: `m` and `g`, where `m` is the map and `g` is a geometry."
   ]
  },
  {
   "cell_type": "code",
   "execution_count": 17,
   "metadata": {},
   "outputs": [],
   "source": [
    "# RUN DO NOT MODIFY\n",
    "flayer = pitem.layers[0]  # THIS IS THE LAYER TO MODIFY\n",
    "oid = 1"
   ]
  },
  {
   "cell_type": "code",
   "execution_count": 18,
   "metadata": {},
   "outputs": [],
   "source": [
    "def create_feature(m, g):\n",
    "    try:\n",
    "        # INSERT CODE FOR METHOD HERE\n",
    "        pt = geometry.Point(g)\n",
    "        feat = features.Feature(geometry=pt, attributes={'Name': 'name',\n",
    "                                                        'Ent_Type': 'park'})\n",
    "        flayer.edit_features([feat])\n",
    "        m.draw(pt)\n",
    "    except Exception as e:\n",
    "        print(e)\n",
    "        print(\"Couldn't draw the point. Try again...\")"
   ]
  },
  {
   "cell_type": "code",
   "execution_count": null,
   "metadata": {},
   "outputs": [],
   "source": [
    "baltimore_map.on_click(create_feature)"
   ]
  }
 ],
 "metadata": {
  "kernelspec": {
   "display_name": "Python 3",
   "language": "python",
   "name": "python3"
  },
  "language_info": {
   "codemirror_mode": {
    "name": "ipython",
    "version": 3
   },
   "file_extension": ".py",
   "mimetype": "text/x-python",
   "name": "python",
   "nbconvert_exporter": "python",
   "pygments_lexer": "ipython3",
   "version": "3.6.6"
  }
 },
 "nbformat": 4,
 "nbformat_minor": 2
}
