{
 "cells": [
  {
   "cell_type": "markdown",
   "metadata": {},
   "source": [
    "# Hands On 2\n",
    "\n",
    "In this lab you will publish, modify and manipulate content on Enterprise or ArcGIS Online."
   ]
  },
  {
   "cell_type": "code",
   "execution_count": 1,
   "metadata": {},
   "outputs": [],
   "source": [
    "# DO NOT MODIFY (RUN FIRST)\n",
    "from arcgis.gis import GIS\n",
    "from arcgis import geometry\n",
    "from arcgis import features"
   ]
  },
  {
   "cell_type": "markdown",
   "metadata": {},
   "source": [
    "### 1. Connect to the Enterprise"
   ]
  },
  {
   "cell_type": "code",
   "execution_count": 3,
   "metadata": {},
   "outputs": [],
   "source": [
    "# ENTER CODE HERE!\n",
    "gis = None"
   ]
  },
  {
   "cell_type": "markdown",
   "metadata": {},
   "source": [
    "### 2. Publish the zipped feature class in the data folder.  It is called PackAccess.zip.  The item type should be `File Geodatabase`. Assign the published item to the variable `item`. "
   ]
  },
  {
   "cell_type": "code",
   "execution_count": 2,
   "metadata": {},
   "outputs": [],
   "source": [
    "# ENTER CODE HERE!\n",
    "fp = \"./data/ParkAccess.zip\"\n",
    "item = None # FGDB VARIABLE\n",
    "pitem = None # Published Item"
   ]
  },
  {
   "cell_type": "markdown",
   "metadata": {},
   "source": [
    "### 3. Run the code below to display the the item was published."
   ]
  },
  {
   "cell_type": "code",
   "execution_count": 3,
   "metadata": {},
   "outputs": [],
   "source": [
    "# DO NOT MODIFY\n",
    "pitem"
   ]
  },
  {
   "cell_type": "markdown",
   "metadata": {},
   "source": [
    "### 4. Modify the hosted feature layer collection so a someone can modify the Feature Layer.\n",
    "\n",
    "(**Hint**: use FeatureLayerCollection's manager to update the definition)"
   ]
  },
  {
   "cell_type": "code",
   "execution_count": 6,
   "metadata": {},
   "outputs": [],
   "source": [
    "# RUN, but DO NOT MODIFY\n",
    "from arcgis.features import FeatureLayerCollection"
   ]
  },
  {
   "cell_type": "code",
   "execution_count": 7,
   "metadata": {},
   "outputs": [],
   "source": [
    "# ENTER CODE HERE!"
   ]
  },
  {
   "cell_type": "markdown",
   "metadata": {},
   "source": [
    "### 5. Create a `map` and have it display over Baltimore, MD.\n",
    "\n",
    "- a. Assign the map to variable called `baltimore_map`.\n",
    "- b. Use the extent below to assign set the Balitmore extent.\n",
    "- c. Add the layer to the map"
   ]
  },
  {
   "cell_type": "code",
   "execution_count": 7,
   "metadata": {},
   "outputs": [],
   "source": [
    "extent = [[-76.711298, 39.197233], [-76.529676,39.371971]]"
   ]
  },
  {
   "cell_type": "code",
   "execution_count": 8,
   "metadata": {},
   "outputs": [],
   "source": [
    "baltimore_map = None\n"
   ]
  },
  {
   "cell_type": "code",
   "execution_count": 9,
   "metadata": {},
   "outputs": [],
   "source": [
    "baltimore_map"
   ]
  },
  {
   "cell_type": "markdown",
   "metadata": {},
   "source": [
    "### 6. Create a method to draw a point on the map. \n",
    "\n",
    "- The method will hook into the `baltimore_map.on_click` event\n",
    "- The method should take two variables: `m` and `g`, where `m` is the map and `g` is a geometry."
   ]
  },
  {
   "cell_type": "code",
   "execution_count": 17,
   "metadata": {},
   "outputs": [],
   "source": [
    "# RUN DO NOT MODIFY\n",
    "flayer = pitem.layers[0]  # THIS IS THE LAYER TO MODIFY\n",
    "oid = 1"
   ]
  },
  {
   "cell_type": "code",
   "execution_count": 18,
   "metadata": {},
   "outputs": [],
   "source": [
    "def create_feature(m, g):\n",
    "    try:\n",
    "        # INSERT CODE FOR METHOD HERE\n",
    "    except Exception as e:\n",
    "        print(e)\n",
    "        print(\"Couldn't draw the point. Try again...\")"
   ]
  },
  {
   "cell_type": "code",
   "execution_count": null,
   "metadata": {},
   "outputs": [],
   "source": [
    "baltimore_map.on_click(create_feature)"
   ]
  }
 ],
 "metadata": {
  "kernelspec": {
   "display_name": "Python 3",
   "language": "python",
   "name": "python3"
  },
  "language_info": {
   "codemirror_mode": {
    "name": "ipython",
    "version": 3
   },
   "file_extension": ".py",
   "mimetype": "text/x-python",
   "name": "python",
   "nbconvert_exporter": "python",
   "pygments_lexer": "ipython3",
   "version": "3.6.6"
  }
 },
 "nbformat": 4,
 "nbformat_minor": 2
}
